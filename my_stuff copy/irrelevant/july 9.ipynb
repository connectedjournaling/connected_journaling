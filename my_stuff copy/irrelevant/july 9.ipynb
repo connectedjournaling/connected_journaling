{
 "cells": [
  {
   "cell_type": "code",
   "execution_count": 2,
   "metadata": {},
   "outputs": [],
   "source": [
    "import os\n",
    "import sklearn.linear_model\n",
    "import sklearn.tree\n",
    "import sklearn.metrics\n",
    "import time\n",
    "import warnings\n",
    "\n",
    "import numpy as np\n",
    "import pandas as pd\n",
    "\n",
    "from matplotlib import pyplot as plt\n",
    "import seaborn as sns\n",
    "from sklearn.neural_network import MLPClassifier\n",
    "from MLPClassifierWithSolverLBFGS import MLPClassifierLBFGS\n",
    "from viz_tools_for_binary_classifier import plot_pretty_probabilities_for_clf\n",
    "\n",
    "from sklearn import tree\n",
    "from sklearn.model_selection import KFold\n",
    "\n",
    "from sklearn.feature_extraction.text import CountVectorizer\n",
    "from nltk.tokenize import word_tokenize\n",
    "\n",
    "from sklearn.feature_extraction.text import TfidfTransformer"
   ]
  },
  {
   "cell_type": "code",
   "execution_count": 3,
   "metadata": {},
   "outputs": [],
   "source": [
    "import spacy\n",
    "from spacy.lang.en import English\n",
    "stoplist = spacy.lang.en.stop_words.STOP_WORDS\n",
    "\n",
    "def ispunct(j):\n",
    "    if j == '.' or j == '!' or j == ',' or j == '[]' or j == ']' or j == '(' or j == ')' \\\n",
    "         or j == '-' or j == '$' or j == '%' or j == '``':\n",
    "        return True\n",
    "    else:\n",
    "        return False"
   ]
  },
  {
   "cell_type": "code",
   "execution_count": 53,
   "metadata": {},
   "outputs": [],
   "source": [
    "x_train_df = pd.read_csv('data_reviews/x_train.csv')\n",
    "y_train_df = pd.read_csv('data_reviews/y_train.csv')\n",
    "#x_test_df  = pd.read_csv('data_reviews/x_test.csv', encoding='latin-1')\n",
    "\n",
    "y_list = y_train_df['is_positive'].values.tolist()\n",
    "the_list = x_train_df['review'].values.tolist()"
   ]
  },
  {
   "cell_type": "code",
   "execution_count": 54,
   "metadata": {
    "scrolled": false
   },
   "outputs": [],
   "source": [
    "i=0\n",
    "tr_text_list = the_list\n",
    "edited_list = tr_text_list\n",
    "for i in range(0,len(tr_text_list)):\n",
    "    #print(tr_text_list[i])\n",
    "    edited_list[i] = tr_text_list[i].lower()\n",
    "    edited_list[i] = ''.join([j for j in tr_text_list[i] if (not j.isdigit() and not ispunct(j))])\n",
    "    edited_list[i] = tr_text_list[i].strip()\n",
    "    tokens = word_tokenize(tr_text_list[i])\n",
    "    edited_list[i] = [j for j in tokens if not j in stoplist]\n",
    "    \n",
    "#for i in range(0,100):\n",
    "    #print(edited_list[i])\n",
    "    \n",
    "    \n"
   ]
  },
  {
   "cell_type": "code",
   "execution_count": 60,
   "metadata": {},
   "outputs": [],
   "source": [
    "train_edited = edited_list[:2160]\n",
    "\n",
    "test_edited = edited_list[2160:]\n",
    "y_test = y_list[2160:]\n",
    "\n"
   ]
  },
  {
   "cell_type": "code",
   "execution_count": 61,
   "metadata": {},
   "outputs": [],
   "source": [
    "pos_words = \"\"\n",
    "neg_words = \"\"\n",
    "cat = pos_words + train_edited[0][0]\n",
    "#print(y_list[0])\n",
    "#print(edited_list[0][0])\n",
    "for i in range(0,len(train_edited)):\n",
    "    if y_list[i] == 0:\n",
    "        for j in range(0,len(train_edited[i])):\n",
    "            neg_words = neg_words + train_edited[i][j] + \" \"\n",
    "    else:\n",
    "        for j in range(0,len(train_edited[i])):\n",
    "            pos_words = pos_words + train_edited[i][j] + \" \"\n",
    "    \n",
    "#print(pos_words)"
   ]
  },
  {
   "cell_type": "code",
   "execution_count": 62,
   "metadata": {},
   "outputs": [],
   "source": [
    "def get_top_n_words(corpus, n=None):\n",
    "    vec = CountVectorizer().fit(corpus)\n",
    "    bag_of_words = vec.transform(corpus)\n",
    "    sum_words = bag_of_words.sum(axis=0) \n",
    "    words_freq = [(word, sum_words[0, idx]) for word, idx in     vec.vocabulary_.items()]\n",
    "    words_freq =sorted(words_freq, key = lambda x: x[1], reverse=True)\n",
    "    return words_freq[:n]"
   ]
  },
  {
   "cell_type": "code",
   "execution_count": 137,
   "metadata": {},
   "outputs": [],
   "source": [
    "#corp_pos = [line.replace(\"\", \"\") for line in pos_words]\n",
    "corp_pos = pos_words.split()\n",
    "corp_neg = neg_words.split()\n",
    "#print(corp_pos)\n",
    "\n",
    "num = 500\n",
    "\n",
    "#print(\"Top positive words: \")\n",
    "top_pos = get_top_n_words(corp_pos, num)\n",
    "#for i in range(0,num):\n",
    "#    print(top_pos[i])\n",
    "    \n",
    "#print(\"\\n\")\n",
    "#print(\"Top negative words: \")\n",
    "top_neg = get_top_n_words(corp_neg, num)\n",
    "#for i in range(0,num):\n",
    "#    print(top_neg[i])\n",
    "    "
   ]
  },
  {
   "cell_type": "code",
   "execution_count": 138,
   "metadata": {},
   "outputs": [],
   "source": [
    "pos = []\n",
    "neg = []\n",
    "\n",
    "num_top_pos = int( len(top_pos)/1 )\n",
    "num_top_neg = int( len(top_neg)/1 )\n",
    "freq_factor = 10\n",
    "\n",
    "#print(num_top_pos)\n",
    "#print(top_pos[i][1])\n",
    "#print(top_pos[i][1] * 2)\n",
    "\n",
    "for i in range(0,num_top_pos):\n",
    "    repeated = False\n",
    "    for j in range(0,num_top_neg):\n",
    "        if top_pos[i][0] == top_neg[j][0]:\n",
    "            if top_pos[i][1] < freq_factor*top_neg[j][1]:\n",
    "                #print(\"word: \", top_pos[i][0])\n",
    "                #print(\"pos times: \", top_pos[i][1], \", neg times: \", top_neg[j][1])\n",
    "                #print('repeated word: ', top_pos[i][0], \" \", top_neg[j][0])\n",
    "                repeated = True\n",
    "            \n",
    "    if not repeated:\n",
    "        pos.append(top_pos[i][0])\n",
    "            \n",
    "for i in range(0,num_top_neg):\n",
    "    repeated = False\n",
    "    for j in range(0,num_top_pos):\n",
    "        if top_neg[i][0] == top_pos[j][0]:\n",
    "            if top_neg[i][1] < freq_factor*top_pos[j][1]:\n",
    "                #print(\"word: \", top_pos[i][0])\n",
    "                #print(\"pos times: \", top_pos[i][1], \", neg times: \", top_neg[j][1])\n",
    "                #print('repeated word: ', top_pos[i][0], \" \", top_neg[j][0])\n",
    "                repeated = True\n",
    "            \n",
    "    if not repeated:\n",
    "        neg.append(top_neg[i][0])\n",
    "        \n",
    "#print(\"Pos words: \", pos, \"\\n\")\n",
    "\n",
    "#print(\"Neg words: \", neg)"
   ]
  },
  {
   "cell_type": "code",
   "execution_count": 141,
   "metadata": {},
   "outputs": [],
   "source": [
    "guesses = np.zeros(len(y_test))\n",
    "\n",
    "for i in range(0,len(test_edited)):\n",
    "    for word in test_edited[i]:\n",
    "        if word in pos:\n",
    "            guesses[i] = guesses[i] + 1\n",
    "        elif word in neg:\n",
    "            guesses[i] = guesses[i] - 1\n",
    "            \n",
    "#print(guesses)"
   ]
  },
  {
   "cell_type": "code",
   "execution_count": 142,
   "metadata": {},
   "outputs": [
    {
     "name": "stdout",
     "output_type": "stream",
     "text": [
      "correct:  125\n",
      "incorrect:  35\n",
      "pct correct:  78.125\n",
      "unsure:  80\n"
     ]
    }
   ],
   "source": [
    "correct = 0\n",
    "incorrect = 0\n",
    "unsure = 0\n",
    "\n",
    "for i in range(0,len(test_edited)):\n",
    "    if guesses[i] > 0:\n",
    "        if y_test[i] == 1: \n",
    "            correct = correct + 1\n",
    "        else: \n",
    "            incorrect = incorrect + 1\n",
    "    elif guesses[i] < 0:\n",
    "        if y_test[i] == 0: \n",
    "            correct = correct + 1\n",
    "        else: \n",
    "            incorrect = incorrect + 1\n",
    "            \n",
    "    else:\n",
    "        unsure = unsure + 1\n",
    "            \n",
    "print(\"correct: \", correct)     \n",
    "print(\"incorrect: \", incorrect)  \n",
    "print(\"pct correct: \", (correct / (incorrect + correct) * 100))\n",
    "print(\"unsure: \", unsure)  \n",
    "            "
   ]
  },
  {
   "cell_type": "code",
   "execution_count": null,
   "metadata": {},
   "outputs": [],
   "source": []
  },
  {
   "cell_type": "code",
   "execution_count": null,
   "metadata": {},
   "outputs": [],
   "source": []
  }
 ],
 "metadata": {
  "kernelspec": {
   "display_name": "Python 3",
   "language": "python",
   "name": "python3"
  },
  "language_info": {
   "codemirror_mode": {
    "name": "ipython",
    "version": 3
   },
   "file_extension": ".py",
   "mimetype": "text/x-python",
   "name": "python",
   "nbconvert_exporter": "python",
   "pygments_lexer": "ipython3",
   "version": "3.7.4"
  }
 },
 "nbformat": 4,
 "nbformat_minor": 2
}
